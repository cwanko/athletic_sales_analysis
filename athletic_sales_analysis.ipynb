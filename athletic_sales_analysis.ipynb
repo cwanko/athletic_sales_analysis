{
 "cells": [
  {
   "cell_type": "code",
   "execution_count": 36,
   "metadata": {},
   "outputs": [],
   "source": [
    "# Import Libraries and Dependencies\n",
    "import pandas as pd\n",
    "from pathlib import Path"
   ]
  },
  {
   "cell_type": "markdown",
   "metadata": {},
   "source": [
    "### 1. Combine and Clean the Data\n",
    "#### Import CSVs"
   ]
  },
  {
   "cell_type": "code",
   "execution_count": 37,
   "metadata": {},
   "outputs": [
    {
     "name": "stdout",
     "output_type": "stream",
     "text": [
      "Sales 2020:\n",
      "      retailer  retailer_id invoice_date     region         state  \\\n",
      "0  Foot Locker      1185732       1/1/20  Northeast      New York   \n",
      "1  Foot Locker      1185732       1/1/20  Northeast  Pennsylvania   \n",
      "2  Foot Locker      1185732       1/1/20  Northeast  Pennsylvania   \n",
      "3  Foot Locker      1185732       1/1/20  Northeast      New York   \n",
      "4  Foot Locker      1185732       1/1/20  Northeast  Pennsylvania   \n",
      "\n",
      "           city                product  price_per_unit  units_sold  \\\n",
      "0      New York  Men's Street Footwear              50        1200   \n",
      "1  Philadelphia        Women's Apparel              68          83   \n",
      "2  Philadelphia        Women's Apparel              75         275   \n",
      "3      New York  Men's Street Footwear              34         384   \n",
      "4  Philadelphia        Women's Apparel              53          83   \n",
      "\n",
      "   total_sales  operating_profit sales_method  \n",
      "0       600000         300000.00     In-store  \n",
      "1         5644           2426.92       Online  \n",
      "2       206250          61875.00       Outlet  \n",
      "3        13056           6789.12       Outlet  \n",
      "4         4399           1407.68       Outlet  \n",
      "\n",
      "Sales 2021:\n",
      "    retailer  retailer_id invoice_date   region       state           city  \\\n",
      "0  West Gear      1128299       1/1/21     West  California  San Francisco   \n",
      "1  West Gear      1128299       1/1/21     West  California  San Francisco   \n",
      "2     Kohl's      1189833       1/1/21  Midwest     Montana       Billings   \n",
      "3     Kohl's      1189833       1/1/21  Midwest     Montana       Billings   \n",
      "4  West Gear      1128299       1/1/21     West  California  San Francisco   \n",
      "\n",
      "                   product  price_per_unit  units_sold  total_sales  \\\n",
      "0  Men's Athletic Footwear              65         750       487500   \n",
      "1  Men's Athletic Footwear              51         233        11883   \n",
      "2            Men's Apparel              50         275       137500   \n",
      "3            Men's Apparel              47          77         3619   \n",
      "4  Men's Athletic Footwear              64         225        14400   \n",
      "\n",
      "   operating_profit sales_method  \n",
      "0         121875.00       Outlet  \n",
      "1           3208.41       Outlet  \n",
      "2          82500.00       Outlet  \n",
      "3           2714.25       Online  \n",
      "4           5184.00       Online  \n"
     ]
    }
   ],
   "source": [
    "\n",
    "# Check if the file exists at the given path\n",
    "file_path_2020 = \"Resources/athletic_sales_2020.csv\"\n",
    "file_path_2021 = \"Resources/athletic_sales_2021.csv\"\n",
    "sales_2020 = pd.read_csv(file_path_2020)\n",
    "sales_2021 = pd.read_csv(file_path_2021)\n",
    "\n",
    "# Display the first few rows of each DataFrame to confirm loading\n",
    "print(\"Sales 2020:\")\n",
    "print(sales_2020.head())\n",
    "\n",
    "print(\"\\nSales 2021:\")\n",
    "print(sales_2021.head())\n",
    "\n",
    "   "
   ]
  },
  {
   "cell_type": "code",
   "execution_count": 38,
   "metadata": {},
   "outputs": [
    {
     "data": {
      "text/html": [
       "<div>\n",
       "<style scoped>\n",
       "    .dataframe tbody tr th:only-of-type {\n",
       "        vertical-align: middle;\n",
       "    }\n",
       "\n",
       "    .dataframe tbody tr th {\n",
       "        vertical-align: top;\n",
       "    }\n",
       "\n",
       "    .dataframe thead th {\n",
       "        text-align: right;\n",
       "    }\n",
       "</style>\n",
       "<table border=\"1\" class=\"dataframe\">\n",
       "  <thead>\n",
       "    <tr style=\"text-align: right;\">\n",
       "      <th></th>\n",
       "      <th>retailer</th>\n",
       "      <th>retailer_id</th>\n",
       "      <th>invoice_date</th>\n",
       "      <th>region</th>\n",
       "      <th>state</th>\n",
       "      <th>city</th>\n",
       "      <th>product</th>\n",
       "      <th>price_per_unit</th>\n",
       "      <th>units_sold</th>\n",
       "      <th>total_sales</th>\n",
       "      <th>operating_profit</th>\n",
       "      <th>sales_method</th>\n",
       "    </tr>\n",
       "  </thead>\n",
       "  <tbody>\n",
       "    <tr>\n",
       "      <th>0</th>\n",
       "      <td>Foot Locker</td>\n",
       "      <td>1185732</td>\n",
       "      <td>1/1/20</td>\n",
       "      <td>Northeast</td>\n",
       "      <td>New York</td>\n",
       "      <td>New York</td>\n",
       "      <td>Men's Street Footwear</td>\n",
       "      <td>50</td>\n",
       "      <td>1200</td>\n",
       "      <td>600000</td>\n",
       "      <td>300000.00</td>\n",
       "      <td>In-store</td>\n",
       "    </tr>\n",
       "    <tr>\n",
       "      <th>1</th>\n",
       "      <td>Foot Locker</td>\n",
       "      <td>1185732</td>\n",
       "      <td>1/1/20</td>\n",
       "      <td>Northeast</td>\n",
       "      <td>Pennsylvania</td>\n",
       "      <td>Philadelphia</td>\n",
       "      <td>Women's Apparel</td>\n",
       "      <td>68</td>\n",
       "      <td>83</td>\n",
       "      <td>5644</td>\n",
       "      <td>2426.92</td>\n",
       "      <td>Online</td>\n",
       "    </tr>\n",
       "    <tr>\n",
       "      <th>2</th>\n",
       "      <td>Foot Locker</td>\n",
       "      <td>1185732</td>\n",
       "      <td>1/1/20</td>\n",
       "      <td>Northeast</td>\n",
       "      <td>Pennsylvania</td>\n",
       "      <td>Philadelphia</td>\n",
       "      <td>Women's Apparel</td>\n",
       "      <td>75</td>\n",
       "      <td>275</td>\n",
       "      <td>206250</td>\n",
       "      <td>61875.00</td>\n",
       "      <td>Outlet</td>\n",
       "    </tr>\n",
       "    <tr>\n",
       "      <th>3</th>\n",
       "      <td>Foot Locker</td>\n",
       "      <td>1185732</td>\n",
       "      <td>1/1/20</td>\n",
       "      <td>Northeast</td>\n",
       "      <td>New York</td>\n",
       "      <td>New York</td>\n",
       "      <td>Men's Street Footwear</td>\n",
       "      <td>34</td>\n",
       "      <td>384</td>\n",
       "      <td>13056</td>\n",
       "      <td>6789.12</td>\n",
       "      <td>Outlet</td>\n",
       "    </tr>\n",
       "    <tr>\n",
       "      <th>4</th>\n",
       "      <td>Foot Locker</td>\n",
       "      <td>1185732</td>\n",
       "      <td>1/1/20</td>\n",
       "      <td>Northeast</td>\n",
       "      <td>Pennsylvania</td>\n",
       "      <td>Philadelphia</td>\n",
       "      <td>Women's Apparel</td>\n",
       "      <td>53</td>\n",
       "      <td>83</td>\n",
       "      <td>4399</td>\n",
       "      <td>1407.68</td>\n",
       "      <td>Outlet</td>\n",
       "    </tr>\n",
       "  </tbody>\n",
       "</table>\n",
       "</div>"
      ],
      "text/plain": [
       "      retailer  retailer_id invoice_date     region         state  \\\n",
       "0  Foot Locker      1185732       1/1/20  Northeast      New York   \n",
       "1  Foot Locker      1185732       1/1/20  Northeast  Pennsylvania   \n",
       "2  Foot Locker      1185732       1/1/20  Northeast  Pennsylvania   \n",
       "3  Foot Locker      1185732       1/1/20  Northeast      New York   \n",
       "4  Foot Locker      1185732       1/1/20  Northeast  Pennsylvania   \n",
       "\n",
       "           city                product  price_per_unit  units_sold  \\\n",
       "0      New York  Men's Street Footwear              50        1200   \n",
       "1  Philadelphia        Women's Apparel              68          83   \n",
       "2  Philadelphia        Women's Apparel              75         275   \n",
       "3      New York  Men's Street Footwear              34         384   \n",
       "4  Philadelphia        Women's Apparel              53          83   \n",
       "\n",
       "   total_sales  operating_profit sales_method  \n",
       "0       600000         300000.00     In-store  \n",
       "1         5644           2426.92       Online  \n",
       "2       206250          61875.00       Outlet  \n",
       "3        13056           6789.12       Outlet  \n",
       "4         4399           1407.68       Outlet  "
      ]
     },
     "execution_count": 38,
     "metadata": {},
     "output_type": "execute_result"
    }
   ],
   "source": [
    "# Display the 2020 sales DataFrame\n",
    "sales_2020.head()"
   ]
  },
  {
   "cell_type": "code",
   "execution_count": 39,
   "metadata": {},
   "outputs": [
    {
     "data": {
      "text/html": [
       "<div>\n",
       "<style scoped>\n",
       "    .dataframe tbody tr th:only-of-type {\n",
       "        vertical-align: middle;\n",
       "    }\n",
       "\n",
       "    .dataframe tbody tr th {\n",
       "        vertical-align: top;\n",
       "    }\n",
       "\n",
       "    .dataframe thead th {\n",
       "        text-align: right;\n",
       "    }\n",
       "</style>\n",
       "<table border=\"1\" class=\"dataframe\">\n",
       "  <thead>\n",
       "    <tr style=\"text-align: right;\">\n",
       "      <th></th>\n",
       "      <th>retailer</th>\n",
       "      <th>retailer_id</th>\n",
       "      <th>invoice_date</th>\n",
       "      <th>region</th>\n",
       "      <th>state</th>\n",
       "      <th>city</th>\n",
       "      <th>product</th>\n",
       "      <th>price_per_unit</th>\n",
       "      <th>units_sold</th>\n",
       "      <th>total_sales</th>\n",
       "      <th>operating_profit</th>\n",
       "      <th>sales_method</th>\n",
       "    </tr>\n",
       "  </thead>\n",
       "  <tbody>\n",
       "    <tr>\n",
       "      <th>0</th>\n",
       "      <td>West Gear</td>\n",
       "      <td>1128299</td>\n",
       "      <td>1/1/21</td>\n",
       "      <td>West</td>\n",
       "      <td>California</td>\n",
       "      <td>San Francisco</td>\n",
       "      <td>Men's Athletic Footwear</td>\n",
       "      <td>65</td>\n",
       "      <td>750</td>\n",
       "      <td>487500</td>\n",
       "      <td>121875.00</td>\n",
       "      <td>Outlet</td>\n",
       "    </tr>\n",
       "    <tr>\n",
       "      <th>1</th>\n",
       "      <td>West Gear</td>\n",
       "      <td>1128299</td>\n",
       "      <td>1/1/21</td>\n",
       "      <td>West</td>\n",
       "      <td>California</td>\n",
       "      <td>San Francisco</td>\n",
       "      <td>Men's Athletic Footwear</td>\n",
       "      <td>51</td>\n",
       "      <td>233</td>\n",
       "      <td>11883</td>\n",
       "      <td>3208.41</td>\n",
       "      <td>Outlet</td>\n",
       "    </tr>\n",
       "    <tr>\n",
       "      <th>2</th>\n",
       "      <td>Kohl's</td>\n",
       "      <td>1189833</td>\n",
       "      <td>1/1/21</td>\n",
       "      <td>Midwest</td>\n",
       "      <td>Montana</td>\n",
       "      <td>Billings</td>\n",
       "      <td>Men's Apparel</td>\n",
       "      <td>50</td>\n",
       "      <td>275</td>\n",
       "      <td>137500</td>\n",
       "      <td>82500.00</td>\n",
       "      <td>Outlet</td>\n",
       "    </tr>\n",
       "    <tr>\n",
       "      <th>3</th>\n",
       "      <td>Kohl's</td>\n",
       "      <td>1189833</td>\n",
       "      <td>1/1/21</td>\n",
       "      <td>Midwest</td>\n",
       "      <td>Montana</td>\n",
       "      <td>Billings</td>\n",
       "      <td>Men's Apparel</td>\n",
       "      <td>47</td>\n",
       "      <td>77</td>\n",
       "      <td>3619</td>\n",
       "      <td>2714.25</td>\n",
       "      <td>Online</td>\n",
       "    </tr>\n",
       "    <tr>\n",
       "      <th>4</th>\n",
       "      <td>West Gear</td>\n",
       "      <td>1128299</td>\n",
       "      <td>1/1/21</td>\n",
       "      <td>West</td>\n",
       "      <td>California</td>\n",
       "      <td>San Francisco</td>\n",
       "      <td>Men's Athletic Footwear</td>\n",
       "      <td>64</td>\n",
       "      <td>225</td>\n",
       "      <td>14400</td>\n",
       "      <td>5184.00</td>\n",
       "      <td>Online</td>\n",
       "    </tr>\n",
       "  </tbody>\n",
       "</table>\n",
       "</div>"
      ],
      "text/plain": [
       "    retailer  retailer_id invoice_date   region       state           city  \\\n",
       "0  West Gear      1128299       1/1/21     West  California  San Francisco   \n",
       "1  West Gear      1128299       1/1/21     West  California  San Francisco   \n",
       "2     Kohl's      1189833       1/1/21  Midwest     Montana       Billings   \n",
       "3     Kohl's      1189833       1/1/21  Midwest     Montana       Billings   \n",
       "4  West Gear      1128299       1/1/21     West  California  San Francisco   \n",
       "\n",
       "                   product  price_per_unit  units_sold  total_sales  \\\n",
       "0  Men's Athletic Footwear              65         750       487500   \n",
       "1  Men's Athletic Footwear              51         233        11883   \n",
       "2            Men's Apparel              50         275       137500   \n",
       "3            Men's Apparel              47          77         3619   \n",
       "4  Men's Athletic Footwear              64         225        14400   \n",
       "\n",
       "   operating_profit sales_method  \n",
       "0         121875.00       Outlet  \n",
       "1           3208.41       Outlet  \n",
       "2          82500.00       Outlet  \n",
       "3           2714.25       Online  \n",
       "4           5184.00       Online  "
      ]
     },
     "execution_count": 39,
     "metadata": {},
     "output_type": "execute_result"
    }
   ],
   "source": [
    "# Display the 2021 sales DataFrame\n",
    "sales_2021.head()"
   ]
  },
  {
   "cell_type": "markdown",
   "metadata": {},
   "source": [
    "#### Check the data types of each DataFrame"
   ]
  },
  {
   "cell_type": "code",
   "execution_count": 40,
   "metadata": {},
   "outputs": [
    {
     "name": "stdout",
     "output_type": "stream",
     "text": [
      "<class 'pandas.core.frame.DataFrame'>\n",
      "RangeIndex: 1297 entries, 0 to 1296\n",
      "Data columns (total 12 columns):\n",
      " #   Column            Non-Null Count  Dtype  \n",
      "---  ------            --------------  -----  \n",
      " 0   retailer          1297 non-null   object \n",
      " 1   retailer_id       1297 non-null   int64  \n",
      " 2   invoice_date      1297 non-null   object \n",
      " 3   region            1297 non-null   object \n",
      " 4   state             1297 non-null   object \n",
      " 5   city              1297 non-null   object \n",
      " 6   product           1297 non-null   object \n",
      " 7   price_per_unit    1297 non-null   int64  \n",
      " 8   units_sold        1297 non-null   int64  \n",
      " 9   total_sales       1297 non-null   int64  \n",
      " 10  operating_profit  1297 non-null   float64\n",
      " 11  sales_method      1297 non-null   object \n",
      "dtypes: float64(1), int64(4), object(7)\n",
      "memory usage: 121.7+ KB\n",
      "None\n"
     ]
    }
   ],
   "source": [
    "# Check the 2020 sales data types.\n",
    "print(sales_2020.info(19))"
   ]
  },
  {
   "cell_type": "code",
   "execution_count": 41,
   "metadata": {},
   "outputs": [
    {
     "name": "stdout",
     "output_type": "stream",
     "text": [
      "<class 'pandas.core.frame.DataFrame'>\n",
      "RangeIndex: 8346 entries, 0 to 8345\n",
      "Data columns (total 12 columns):\n",
      " #   Column            Non-Null Count  Dtype  \n",
      "---  ------            --------------  -----  \n",
      " 0   retailer          8346 non-null   object \n",
      " 1   retailer_id       8346 non-null   int64  \n",
      " 2   invoice_date      8346 non-null   object \n",
      " 3   region            8346 non-null   object \n",
      " 4   state             8346 non-null   object \n",
      " 5   city              8346 non-null   object \n",
      " 6   product           8346 non-null   object \n",
      " 7   price_per_unit    8346 non-null   int64  \n",
      " 8   units_sold        8346 non-null   int64  \n",
      " 9   total_sales       8346 non-null   int64  \n",
      " 10  operating_profit  8346 non-null   float64\n",
      " 11  sales_method      8346 non-null   object \n",
      "dtypes: float64(1), int64(4), object(7)\n",
      "memory usage: 782.6+ KB\n",
      "None\n"
     ]
    }
   ],
   "source": [
    "# Check the 2021 sales data types.\n",
    "sales_2021.dtypes\n",
    "print(sales_2021.info(19))"
   ]
  },
  {
   "cell_type": "markdown",
   "metadata": {},
   "source": [
    "#### Combine the sales data by rows."
   ]
  },
  {
   "cell_type": "code",
   "execution_count": 42,
   "metadata": {},
   "outputs": [
    {
     "name": "stdout",
     "output_type": "stream",
     "text": [
      "      retailer  retailer_id invoice_date     region         state  \\\n",
      "0  Foot Locker      1185732       1/1/20  Northeast      New York   \n",
      "1  Foot Locker      1185732       1/1/20  Northeast  Pennsylvania   \n",
      "2  Foot Locker      1185732       1/1/20  Northeast  Pennsylvania   \n",
      "3  Foot Locker      1185732       1/1/20  Northeast      New York   \n",
      "4  Foot Locker      1185732       1/1/20  Northeast  Pennsylvania   \n",
      "\n",
      "           city                product  price_per_unit  units_sold  \\\n",
      "0      New York  Men's Street Footwear              50        1200   \n",
      "1  Philadelphia        Women's Apparel              68          83   \n",
      "2  Philadelphia        Women's Apparel              75         275   \n",
      "3      New York  Men's Street Footwear              34         384   \n",
      "4  Philadelphia        Women's Apparel              53          83   \n",
      "\n",
      "   total_sales  operating_profit sales_method  \n",
      "0       600000         300000.00     In-store  \n",
      "1         5644           2426.92       Online  \n",
      "2       206250          61875.00       Outlet  \n",
      "3        13056           6789.12       Outlet  \n",
      "4         4399           1407.68       Outlet  \n"
     ]
    }
   ],
   "source": [
    "# Concatenate the 2020 and 2021 sales data on rows\n",
    "\n",
    "combined_sales_data = pd.concat([sales_2020, sales_2021], ignore_index=True)\n",
    "\n",
    "# Reset the index of the combined DataFrame\n",
    "combined_sales_data.reset_index(drop=True, inplace=True)\n",
    "\n",
    "# Display the first few rows of the combined DataFrame\n",
    "print(combined_sales_data.head())\n",
    "\n"
   ]
  },
  {
   "cell_type": "code",
   "execution_count": 43,
   "metadata": {},
   "outputs": [
    {
     "name": "stdout",
     "output_type": "stream",
     "text": [
      "Null values in each column:\n",
      "retailer            0\n",
      "retailer_id         0\n",
      "invoice_date        0\n",
      "region              0\n",
      "state               0\n",
      "                   ..\n",
      "price_per_unit      0\n",
      "units_sold          0\n",
      "total_sales         0\n",
      "operating_profit    0\n",
      "sales_method        0\n",
      "Length: 12, dtype: int64\n"
     ]
    }
   ],
   "source": [
    "# Check if any values are null.\n",
    "null_values = combined_sales_data.isnull().sum()\n",
    "\n",
    "# Display the columns with their respective count of null values\n",
    "print(\"Null values in each column:\")\n",
    "print(null_values)"
   ]
  },
  {
   "cell_type": "code",
   "execution_count": 44,
   "metadata": {},
   "outputs": [
    {
     "name": "stdout",
     "output_type": "stream",
     "text": [
      "<class 'pandas.core.frame.DataFrame'>\n",
      "RangeIndex: 9643 entries, 0 to 9642\n",
      "Data columns (total 12 columns):\n",
      " #   Column            Non-Null Count  Dtype  \n",
      "---  ------            --------------  -----  \n",
      " 0   retailer          9643 non-null   object \n",
      " 1   retailer_id       9643 non-null   int64  \n",
      " 2   invoice_date      9643 non-null   object \n",
      " 3   region            9643 non-null   object \n",
      " 4   state             9643 non-null   object \n",
      " 5   city              9643 non-null   object \n",
      " 6   product           9643 non-null   object \n",
      " 7   price_per_unit    9643 non-null   int64  \n",
      " 8   units_sold        9643 non-null   int64  \n",
      " 9   total_sales       9643 non-null   int64  \n",
      " 10  operating_profit  9643 non-null   float64\n",
      " 11  sales_method      9643 non-null   object \n",
      "dtypes: float64(1), int64(4), object(7)\n",
      "memory usage: 904.2+ KB\n",
      "None\n"
     ]
    }
   ],
   "source": [
    "# Check the data type of each column\n",
    "#combined_sales_data.dtypes\n",
    "#print(combined_sales_data.dtypes)\n",
    "print(combined_sales_data.info(19))"
   ]
  },
  {
   "cell_type": "code",
   "execution_count": 61,
   "metadata": {},
   "outputs": [
    {
     "name": "stdout",
     "output_type": "stream",
     "text": [
      "datetime64[ns]\n",
      "0   2020-01-01\n",
      "1   2020-01-01\n",
      "2   2020-01-01\n",
      "3   2020-01-01\n",
      "4   2020-01-01\n",
      "Name: invoice_date, dtype: datetime64[ns]\n"
     ]
    }
   ],
   "source": [
    "# Convert the \"invoice_date\" to a datetime datatype\n",
    "# Verify the conversion by checking the data type of the column\n",
    "\n",
    "# Convert the \"invoice_date\" column to a datetime datatype\n",
    "combined_sales_data['invoice_date'] = pd.to_datetime(combined_sales_data['invoice_date'])\n",
    "\n",
    "# Verify the conversion by checking the data type of the column\n",
    "print(combined_sales_data['invoice_date'].dtype)\n",
    "\n",
    "# Display the first few rows of the \"invoice_date\" column to check the format\n",
    "print(combined_sales_data['invoice_date'].head())\n",
    "\n",
    "# Display the entire DataFrame to visually inspect the \"invoice_date\" column\n",
    "#print(combined_sales_data.head())\n",
    "\n",
    "# Showing the full DataFrame formatted as you described\n",
    "pd.set_option('display.max_rows', 10)\n",
    "#print(combined_sales_data.to_string(index=False))"
   ]
  },
  {
   "cell_type": "code",
   "execution_count": 46,
   "metadata": {},
   "outputs": [
    {
     "name": "stdout",
     "output_type": "stream",
     "text": [
      "<class 'pandas.core.frame.DataFrame'>\n",
      "RangeIndex: 9643 entries, 0 to 9642\n",
      "Data columns (total 12 columns):\n",
      " #   Column            Non-Null Count  Dtype         \n",
      "---  ------            --------------  -----         \n",
      " 0   retailer          9643 non-null   object        \n",
      " 1   retailer_id       9643 non-null   int64         \n",
      " 2   invoice_date      9643 non-null   datetime64[ns]\n",
      " 3   region            9643 non-null   object        \n",
      " 4   state             9643 non-null   object        \n",
      " 5   city              9643 non-null   object        \n",
      " 6   product           9643 non-null   object        \n",
      " 7   price_per_unit    9643 non-null   int64         \n",
      " 8   units_sold        9643 non-null   int64         \n",
      " 9   total_sales       9643 non-null   int64         \n",
      " 10  operating_profit  9643 non-null   float64       \n",
      " 11  sales_method      9643 non-null   object        \n",
      "dtypes: datetime64[ns](1), float64(1), int64(4), object(6)\n",
      "memory usage: 904.2+ KB\n",
      "None\n"
     ]
    }
   ],
   "source": [
    "# Confirm that the \"invoice_date\" data type has been changed.\n",
    "print(combined_sales_data.info())"
   ]
  },
  {
   "cell_type": "markdown",
   "metadata": {},
   "source": [
    "### 2. Determine which Region Sold the Most Products"
   ]
  },
  {
   "cell_type": "markdown",
   "metadata": {},
   "source": [
    "#### Using `groupby`"
   ]
  },
  {
   "cell_type": "code",
   "execution_count": 47,
   "metadata": {},
   "outputs": [
    {
     "name": "stdout",
     "output_type": "stream",
     "text": [
      "       region       state           city  Total_Products_Sold\n",
      "21  Northeast    New York       New York               111954\n",
      "33      South       Texas        Houston                90322\n",
      "44       West  California  San Francisco                85478\n",
      "43       West  California    Los Angeles                76384\n",
      "34  Southeast     Florida          Miami                73135\n"
     ]
    }
   ],
   "source": [
    "# Group by 'region', 'state', and 'city' and sum the 'units_sold' column\n",
    "total_sold = combined_sales_data.groupby(['region', 'state', 'city'])['units_sold'].sum().reset_index()\n",
    "\n",
    "# Rename the resulting column to 'Total_Products_Sold'\n",
    "total_products_sold = total_sold.rename(columns={'units_sold': 'Total_Products_Sold'})\n",
    "\n",
    "# Show the top 5 results by total products sold\n",
    "top_regions = total_products_sold.sort_values(by='Total_Products_Sold', ascending=False).head(5)\n",
    "print(top_regions)\n"
   ]
  },
  {
   "cell_type": "markdown",
   "metadata": {},
   "source": [
    "#### Using `pivot_table`"
   ]
  },
  {
   "cell_type": "code",
   "execution_count": 48,
   "metadata": {},
   "outputs": [
    {
     "name": "stdout",
     "output_type": "stream",
     "text": [
      "       region       state           city  Total_Products_Sold\n",
      "21  Northeast    New York       New York               111954\n",
      "33      South       Texas        Houston                90322\n",
      "44       West  California  San Francisco                85478\n",
      "43       West  California    Los Angeles                76384\n",
      "34  Southeast     Florida          Miami                73135\n"
     ]
    }
   ],
   "source": [
    "# Create a pivot table to show the number of products sold for each region, state, and city\n",
    "pivot_table = combined_sales_data.pivot_table(values='units_sold', index=['region', 'state', 'city'], aggfunc='sum').reset_index()\n",
    "\n",
    "# Rename the resulting column to 'Total_Products_Sold'\n",
    "pivot_table = pivot_table.rename(columns={'units_sold': 'Total_Products_Sold'})\n",
    "#print(pivot_table)\n",
    "\n",
    "# Sort the DataFrame by 'Total_Products_Sold' column in descending order\n",
    "top_results = pivot_table.sort_values(by='Total_Products_Sold', ascending=False)\n",
    "\n",
    "# # Display the top 5 results\n",
    "print(top_results.head(5))\n",
    "\n",
    "\n",
    "\n"
   ]
  },
  {
   "cell_type": "markdown",
   "metadata": {},
   "source": [
    "### 3. Determine which Region had the Most Sales"
   ]
  },
  {
   "cell_type": "markdown",
   "metadata": {},
   "source": [
    "#### Using `groupby`"
   ]
  },
  {
   "cell_type": "code",
   "execution_count": 49,
   "metadata": {},
   "outputs": [
    {
     "name": "stdout",
     "output_type": "stream",
     "text": [
      "       region           state           city  Total Sales\n",
      "21  Northeast        New York       New York     39801235\n",
      "44       West      California  San Francisco     33973228\n",
      "34  Southeast         Florida          Miami     31600863\n",
      "39  Southeast  South Carolina     Charleston     29285637\n",
      "35  Southeast         Florida        Orlando     27682851\n"
     ]
    }
   ],
   "source": [
    "# Group by 'region', 'state', and 'city' and sum the 'total_sales' column\n",
    "total_sales_by_location = combined_sales_data.groupby(['region', 'state', 'city'])['total_sales'].sum().reset_index()\n",
    "\n",
    "# Rename the resulting column to 'Total Sales'\n",
    "total_sales_by_location = total_sales_by_location.rename(columns={'total_sales': 'Total Sales'})\n",
    "\n",
    "# Display the total sales for each region, state, and city\n",
    "#print(total_sales_by_location)\n",
    "\n",
    "# Sort the DataFrame by 'Total Sales' column in descending order\n",
    "top_results = total_sales_by_location.sort_values(by='Total Sales', ascending=False)\n",
    "print(top_results.head(5))"
   ]
  },
  {
   "cell_type": "markdown",
   "metadata": {},
   "source": [
    "#### Using `pivot_table`"
   ]
  },
  {
   "cell_type": "code",
   "execution_count": 50,
   "metadata": {},
   "outputs": [
    {
     "name": "stdout",
     "output_type": "stream",
     "text": [
      "       region           state           city  Total Sales\n",
      "21  Northeast        New York       New York     39801235\n",
      "44       West      California  San Francisco     33973228\n",
      "34  Southeast         Florida          Miami     31600863\n",
      "39  Southeast  South Carolina     Charleston     29285637\n",
      "35  Southeast         Florida        Orlando     27682851\n"
     ]
    }
   ],
   "source": [
    "# Show the total sales for the products sold for each region, state, and city.\n",
    "# Optional: Rename the \"total_sales\" column to \"Total Sales\"\n",
    "# Show the top 5 results.\n",
    "\n",
    "# Create a pivot table to show the total sales for each region, state, and city\n",
    "pivot_table = combined_sales_data.pivot_table(values='total_sales', index=['region', 'state', 'city'], aggfunc='sum').reset_index()\n",
    "\n",
    "pivot_table = pivot_table.rename(columns={'total_sales': 'Total Sales'})\n",
    "\n",
    "# Sort the pivot table by 'Total Sales' column in descending order\n",
    "sorted_pivot_table = pivot_table.sort_values(by='Total Sales', ascending=False)\n",
    "\n",
    "# Select the top 5 results\n",
    "top_5_results = sorted_pivot_table.head()\n",
    "print(top_5_results.head())\n",
    "\n"
   ]
  },
  {
   "cell_type": "markdown",
   "metadata": {},
   "source": [
    "### 4. Determine which Retailer had the Most Sales"
   ]
  },
  {
   "cell_type": "markdown",
   "metadata": {},
   "source": [
    "#### Using `groupby`"
   ]
  },
  {
   "cell_type": "code",
   "execution_count": 51,
   "metadata": {},
   "outputs": [
    {
     "name": "stdout",
     "output_type": "stream",
     "text": [
      "        retailer     region           state           city  Total Sales\n",
      "103    West Gear       West      California  San Francisco     32794405\n",
      "50        Kohl's       West      California    Los Angeles     25127160\n",
      "22   Foot Locker  Northeast        New York       New York     25008568\n",
      "109    West Gear       West      Washington        Seattle     24862675\n",
      "33   Foot Locker  Southeast  South Carolina     Charleston     24822280\n"
     ]
    }
   ],
   "source": [
    "# Show the total sales for the products sold for each retailer, region, state, and city.\n",
    "# Rename the \"total_sales\" column to \"Total Sales\"\n",
    "# Show the top 5 results.\n",
    "\n",
    "# Group by 'retailer', 'region', 'state', and 'city' and sum the 'total_sales' column\n",
    "total_sales_by_location = combined_sales_data.groupby(['retailer', 'region', 'state', 'city'])['total_sales'].sum().reset_index()\n",
    "\n",
    "# Rename the resulting column to 'Total Sales'\n",
    "total_sales_by_location = total_sales_by_location.rename(columns={'total_sales': 'Total Sales'})\n",
    "\n",
    "# Sort the DataFrame by 'Total Sales' column in descending order\n",
    "total_sales_by_location_sorted = total_sales_by_location.sort_values(by='Total Sales', ascending=False)\n",
    "#print (total_sales_by_location_sorted)\n",
    "# Select the top 5 results\n",
    "top_5_total_sales = total_sales_by_location_sorted.head()\n",
    "print(top_5_total_sales.head())\n",
    "\n"
   ]
  },
  {
   "cell_type": "markdown",
   "metadata": {},
   "source": [
    "#### Using `pivot_table`"
   ]
  },
  {
   "cell_type": "code",
   "execution_count": 52,
   "metadata": {},
   "outputs": [
    {
     "name": "stdout",
     "output_type": "stream",
     "text": [
      "        retailer     region           state           city  Total Sales\n",
      "103    West Gear       West      California  San Francisco     32794405\n",
      "50        Kohl's       West      California    Los Angeles     25127160\n",
      "22   Foot Locker  Northeast        New York       New York     25008568\n",
      "109    West Gear       West      Washington        Seattle     24862675\n",
      "33   Foot Locker  Southeast  South Carolina     Charleston     24822280\n"
     ]
    }
   ],
   "source": [
    "# Show the total sales for the products sold for each retailer, region, state, and city.\n",
    "# Optional: Rename the \"total_sales\" column to \"Total Sales\"\n",
    "# Show the top 5 results.\n",
    "\n",
    "# Create a pivot table to show the total sales for each retailer, region, state, and city\n",
    "pivot_table = combined_sales_data.pivot_table(values='total_sales', index=['retailer', 'region', 'state', 'city'], aggfunc='sum').reset_index()\n",
    "\n",
    "# Optional: Rename the resulting column to 'Total Sales'\n",
    "pivot_table = pivot_table.rename(columns={'total_sales': 'Total Sales'})\n",
    "\n",
    "# Sort the pivot table by 'Total Sales' column in descending order\n",
    "sorted_pivot_table = pivot_table.sort_values(by='Total Sales', ascending=False)\n",
    "\n",
    "# Select the top 5 results\n",
    "top_5_results = sorted_pivot_table.head()\n",
    "print(top_5_total_sales.head())\n",
    "\n",
    "\n"
   ]
  },
  {
   "cell_type": "markdown",
   "metadata": {},
   "source": [
    "### 5. Determine which Retailer Sold the Most Women's Athletic Footwear"
   ]
  },
  {
   "cell_type": "code",
   "execution_count": 53,
   "metadata": {},
   "outputs": [
    {
     "name": "stdout",
     "output_type": "stream",
     "text": [
      "   retailer  retailer_id invoice_date    region        state         city                   product  price_per_unit  units_sold  total_sales  operating_profit sales_method\n",
      "Foot Locker      1185732   2020-01-04 Northeast     New York     New York Women's Athletic Footwear              36         281        10116           3742.92       Outlet\n",
      "Foot Locker      1185732   2020-01-04 Northeast     New York     New York Women's Athletic Footwear              41         247        10127           4658.42       Online\n",
      "Foot Locker      1185732   2020-01-04 Northeast     New York     New York Women's Athletic Footwear              45         850       382500         133875.00     In-store\n",
      "  West Gear      1128299   2020-01-05 Northeast Pennsylvania Philadelphia Women's Athletic Footwear              45         300       135000          47250.00       Outlet\n",
      "  West Gear      1128299   2020-01-05 Northeast Pennsylvania Philadelphia Women's Athletic Footwear              34          90         3060           1254.60       Outlet\n"
     ]
    }
   ],
   "source": [
    "# Filter the sales data to get the women's athletic footwear sales data.\n",
    "\n",
    "womens_athletic_footwear_sales = combined_sales_data[combined_sales_data['product'] == \"Women's Athletic Footwear\"]\n",
    "\n",
    "# Display the filtered data with proper formatting\n",
    "print(womens_athletic_footwear_sales.head().to_string(index=False))"
   ]
  },
  {
   "cell_type": "markdown",
   "metadata": {},
   "source": [
    "#### Using `groupby`"
   ]
  },
  {
   "cell_type": "code",
   "execution_count": 59,
   "metadata": {},
   "outputs": [
    {
     "name": "stdout",
     "output_type": "stream",
     "text": [
      "     retailer    region          state          city  Womens_Footwear_Units_Sold\n",
      "    West Gear      West     California San Francisco                       12107\n",
      "  Foot Locker Northeast       New York      New York                       10996\n",
      "       Kohl's      West     California   Los Angeles                       10826\n",
      "  Foot Locker Southeast South Carolina    Charleston                        8814\n",
      "Sports Direct     South          Texas        Dallas                        8790\n"
     ]
    }
   ],
   "source": [
    "# Show the total number of women's athletic footwear sold for each retailer, region, state, and city.\n",
    "# Rename the \"units_sold\" column to \"Womens_Footwear_Units_Sold\"\n",
    "# Show the top 5 results.\n",
    "\n",
    "# Group by 'retailer', 'region', 'state', and 'city' and sum the 'units_sold' column\n",
    "total_womens_footwear_sales = womens_athletic_footwear_sales.groupby(['retailer', 'region', 'state', 'city'])['units_sold'].sum().reset_index()\n",
    "\n",
    "# Rename the resulting column to 'Womens_Footwear_Units_Sold'\n",
    "total_womens_footwear_sales = total_womens_footwear_sales.rename(columns={'units_sold': 'Womens_Footwear_Units_Sold'})\n",
    "\n",
    "# Sort the DataFrame by 'Womens_Footwear_Units_Sold' column in descending order\n",
    "total_womens_footwear_sales_sorted = total_womens_footwear_sales.sort_values(by='Womens_Footwear_Units_Sold', ascending=False)\n",
    "\n",
    "# Select the top 5 results\n",
    "top_5_womens_footwear_sales = total_womens_footwear_sales_sorted.head()\n",
    "print(top_5_womens_footwear_sales.to_string(index=False))\n"
   ]
  },
  {
   "cell_type": "markdown",
   "metadata": {},
   "source": [
    "#### Using `pivot_table`"
   ]
  },
  {
   "cell_type": "code",
   "execution_count": 55,
   "metadata": {},
   "outputs": [
    {
     "name": "stdout",
     "output_type": "stream",
     "text": [
      "     retailer    region          state          city  Womens_Footwear_Units_Sold\n",
      "    West Gear      West     California San Francisco                       12107\n",
      "  Foot Locker Northeast       New York      New York                       10996\n",
      "       Kohl's      West     California   Los Angeles                       10826\n",
      "  Foot Locker Southeast South Carolina    Charleston                        8814\n",
      "Sports Direct     South          Texas        Dallas                        8790\n"
     ]
    }
   ],
   "source": [
    "# Show the total number of women's athletic footwear sold for each retailer, region, state, and city.\n",
    "# Rename the \"units_sold\" column to \"Womens_Footwear_Units_Sold\"\n",
    "# Show the top 5 results.\n",
    "\n",
    "# Create a pivot table to aggregate the data\n",
    "pivot_table = womens_athletic_footwear_sales.pivot_table(\n",
    "    values='units_sold', \n",
    "    index=['retailer', 'region', 'state', 'city'], \n",
    "    aggfunc='sum'\n",
    ").reset_index()\n",
    "\n",
    "# Rename the resulting column to 'Womens_Footwear_Units_Sold'\n",
    "pivot_table = pivot_table.rename(columns={'units_sold': 'Womens_Footwear_Units_Sold'})\n",
    "\n",
    "# Sort the DataFrame by 'Womens_Footwear_Units_Sold' column in descending order\n",
    "pivot_table_sorted = pivot_table.sort_values(by='Womens_Footwear_Units_Sold', ascending=False)\n",
    "\n",
    "# Select the top 5 results\n",
    "top_5_womens_footwear_sales = pivot_table_sorted.head()\n",
    "print(top_5_womens_footwear_sales.to_string(index=False))\n"
   ]
  },
  {
   "cell_type": "markdown",
   "metadata": {},
   "source": [
    "### 6. Determine the Day with the Most Women's Athletic Footwear Sales"
   ]
  },
  {
   "cell_type": "code",
   "execution_count": 56,
   "metadata": {},
   "outputs": [
    {
     "name": "stdout",
     "output_type": "stream",
     "text": [
      "              Total Sales\n",
      "invoice_date             \n",
      "2020-01-04         402743\n",
      "2020-01-05         141801\n",
      "2020-01-11         129556\n",
      "2020-01-17         173013\n",
      "2020-01-22         388250\n",
      "2020-01-23         188025\n",
      "2020-01-28         376728\n",
      "2020-01-29         190065\n",
      "2020-02-03         390008\n",
      "2020-02-04         268253\n"
     ]
    }
   ],
   "source": [
    "# Create a pivot table with the 'invoice_date' column as the index and the \"total_sales\" as the values\n",
    "pivot_table = womens_athletic_footwear_sales.pivot_table(values='total_sales', index='invoice_date', aggfunc='sum')\n",
    "\n",
    "# Optional: Rename the \"total_sales\" column to \"Total Sales\"\n",
    "pivot_table = pivot_table.rename(columns={'total_sales': 'Total Sales'})\n",
    "\n",
    "# Show the table\n",
    "print(pivot_table.head(10))\n",
    "\n"
   ]
  },
  {
   "cell_type": "code",
   "execution_count": 57,
   "metadata": {},
   "outputs": [
    {
     "name": "stdout",
     "output_type": "stream",
     "text": [
      "              Total Sales\n",
      "invoice_date             \n",
      "2021-07-16        1521825\n",
      "2021-12-16        1473497\n",
      "2021-06-17        1376988\n",
      "2021-08-17        1086294\n",
      "2021-07-23        1021806\n",
      "2021-11-17        1021145\n",
      "2021-12-09         915011\n",
      "2021-06-24         884238\n",
      "2021-07-09         869054\n",
      "2021-08-10         839120\n"
     ]
    }
   ],
   "source": [
    "# Resample the pivot table into daily bins, and get the total sales for each day.\n",
    "# Sort the resampled pivot table in descending order on \"Total Sales\".\n",
    "\n",
    "# Create a pivot table to aggregate the total_sales\n",
    "pivot_table = womens_athletic_footwear_sales.pivot_table(\n",
    "    values='total_sales', \n",
    "    index='invoice_date', \n",
    "    aggfunc='sum'\n",
    ")\n",
    "\n",
    "# Resample the pivot table into daily bins and sum the sales\n",
    "daily_sales = pivot_table.resample('D').sum()\n",
    "\n",
    "# Rename the resulting column to 'Total Sales'\n",
    "daily_sales = daily_sales.rename(columns={'total_sales': 'Total Sales'})\n",
    "\n",
    "# Sort the DataFrame by 'Total Sales' in descending order\n",
    "daily_sales_sorted = daily_sales.sort_values(by='Total Sales', ascending=False)\n",
    "\n",
    "# Display the table\n",
    "print(daily_sales_sorted.head(10))"
   ]
  },
  {
   "cell_type": "markdown",
   "metadata": {},
   "source": [
    "### 7.  Determine the Week with the Most Women's Athletic Footwear Sales"
   ]
  },
  {
   "cell_type": "code",
   "execution_count": 58,
   "metadata": {},
   "outputs": [
    {
     "name": "stdout",
     "output_type": "stream",
     "text": [
      "              Total Sales\n",
      "invoice_date             \n",
      "2021-12-19        3098970\n",
      "2021-12-12        2922161\n",
      "2021-07-11        2835078\n",
      "2021-07-18        2801449\n",
      "2021-11-14        2531721\n",
      "2021-08-22        2491259\n",
      "2021-08-15        2463941\n",
      "2021-11-21        2449537\n",
      "2021-05-16        2422132\n",
      "2021-06-13        2358602\n"
     ]
    }
   ],
   "source": [
    "# Resample the pivot table into weekly bins, and get the total sales for each week.\n",
    "# Sort the resampled pivot table in descending order on \"Total Sales\".\n",
    "\n",
    "# Create a pivot table to aggregate the total_sales\n",
    "pivot_table = womens_athletic_footwear_sales.pivot_table(\n",
    "    values='total_sales', \n",
    "    index='invoice_date', \n",
    "    aggfunc='sum'\n",
    ")\n",
    "\n",
    "# Resample the pivot table into weekly bins and sum the sales\n",
    "weekly_sales = pivot_table.resample('W').sum()\n",
    "\n",
    "# Rename the resulting column to 'Total Sales'\n",
    "weekly_sales = weekly_sales.rename(columns={'total_sales': 'Total Sales'})\n",
    "\n",
    "# Sort the DataFrame by 'Total Sales' in descending order\n",
    "weekly_sales_sorted = weekly_sales.sort_values(by='Total Sales', ascending=False)\n",
    "\n",
    "# Display the table\n",
    "print(weekly_sales_sorted.head(10))"
   ]
  },
  {
   "cell_type": "code",
   "execution_count": null,
   "metadata": {},
   "outputs": [],
   "source": []
  }
 ],
 "metadata": {
  "kernelspec": {
   "display_name": "Python 3 (ipykernel)",
   "language": "python",
   "name": "python3"
  },
  "language_info": {
   "codemirror_mode": {
    "name": "ipython",
    "version": 3
   },
   "file_extension": ".py",
   "mimetype": "text/x-python",
   "name": "python",
   "nbconvert_exporter": "python",
   "pygments_lexer": "ipython3",
   "version": "3.10.14"
  }
 },
 "nbformat": 4,
 "nbformat_minor": 4
}
